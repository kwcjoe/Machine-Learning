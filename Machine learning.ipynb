{
 "cells": [
  {
   "cell_type": "code",
   "execution_count": 23,
   "metadata": {},
   "outputs": [],
   "source": [
    "import pandas as pd\n",
    "import sklearn\n",
    "import plotly\n",
    "import scipy\n",
    "import sympy\n",
    "import statsmodels\n",
    "import numpy as np\n",
    "import matplotlib.pyplot as plt\n",
    "import seaborn as sns\n"
   ]
  },
  {
   "cell_type": "code",
   "execution_count": 24,
   "metadata": {},
   "outputs": [],
   "source": [
    "url = 'https://archive.ics.uci.edu/ml/machine-learning-databases/adult/adult.data'\n",
    "col_name = ['age' , 'workclass' , 'fnlwgt','education','education-num','marital-status','occupation','relationship','race','sex','capital-gain','capital-loss','hours-per-week','native-country','result']\n",
    "train = pd.read_csv(url, sep=' ', header = None, names= col_name)"
   ]
  },
  {
   "cell_type": "code",
   "execution_count": 25,
   "metadata": {
    "scrolled": true
   },
   "outputs": [
    {
     "data": {
      "text/html": [
       "<div>\n",
       "<style scoped>\n",
       "    .dataframe tbody tr th:only-of-type {\n",
       "        vertical-align: middle;\n",
       "    }\n",
       "\n",
       "    .dataframe tbody tr th {\n",
       "        vertical-align: top;\n",
       "    }\n",
       "\n",
       "    .dataframe thead th {\n",
       "        text-align: right;\n",
       "    }\n",
       "</style>\n",
       "<table border=\"1\" class=\"dataframe\">\n",
       "  <thead>\n",
       "    <tr style=\"text-align: right;\">\n",
       "      <th></th>\n",
       "      <th>age</th>\n",
       "      <th>workclass</th>\n",
       "      <th>fnlwgt</th>\n",
       "      <th>education</th>\n",
       "      <th>education-num</th>\n",
       "      <th>marital-status</th>\n",
       "      <th>occupation</th>\n",
       "      <th>relationship</th>\n",
       "      <th>race</th>\n",
       "      <th>sex</th>\n",
       "      <th>capital-gain</th>\n",
       "      <th>capital-loss</th>\n",
       "      <th>hours-per-week</th>\n",
       "      <th>native-country</th>\n",
       "      <th>result</th>\n",
       "    </tr>\n",
       "  </thead>\n",
       "  <tbody>\n",
       "    <tr>\n",
       "      <td>0</td>\n",
       "      <td>39,</td>\n",
       "      <td>State-gov,</td>\n",
       "      <td>77516,</td>\n",
       "      <td>Bachelors,</td>\n",
       "      <td>13,</td>\n",
       "      <td>Never-married,</td>\n",
       "      <td>Adm-clerical,</td>\n",
       "      <td>Not-in-family,</td>\n",
       "      <td>White,</td>\n",
       "      <td>Male,</td>\n",
       "      <td>2174,</td>\n",
       "      <td>0,</td>\n",
       "      <td>40,</td>\n",
       "      <td>United-States,</td>\n",
       "      <td>&lt;=50K</td>\n",
       "    </tr>\n",
       "    <tr>\n",
       "      <td>1</td>\n",
       "      <td>50,</td>\n",
       "      <td>Self-emp-not-inc,</td>\n",
       "      <td>83311,</td>\n",
       "      <td>Bachelors,</td>\n",
       "      <td>13,</td>\n",
       "      <td>Married-civ-spouse,</td>\n",
       "      <td>Exec-managerial,</td>\n",
       "      <td>Husband,</td>\n",
       "      <td>White,</td>\n",
       "      <td>Male,</td>\n",
       "      <td>0,</td>\n",
       "      <td>0,</td>\n",
       "      <td>13,</td>\n",
       "      <td>United-States,</td>\n",
       "      <td>&lt;=50K</td>\n",
       "    </tr>\n",
       "    <tr>\n",
       "      <td>2</td>\n",
       "      <td>38,</td>\n",
       "      <td>Private,</td>\n",
       "      <td>215646,</td>\n",
       "      <td>HS-grad,</td>\n",
       "      <td>9,</td>\n",
       "      <td>Divorced,</td>\n",
       "      <td>Handlers-cleaners,</td>\n",
       "      <td>Not-in-family,</td>\n",
       "      <td>White,</td>\n",
       "      <td>Male,</td>\n",
       "      <td>0,</td>\n",
       "      <td>0,</td>\n",
       "      <td>40,</td>\n",
       "      <td>United-States,</td>\n",
       "      <td>&lt;=50K</td>\n",
       "    </tr>\n",
       "    <tr>\n",
       "      <td>3</td>\n",
       "      <td>53,</td>\n",
       "      <td>Private,</td>\n",
       "      <td>234721,</td>\n",
       "      <td>11th,</td>\n",
       "      <td>7,</td>\n",
       "      <td>Married-civ-spouse,</td>\n",
       "      <td>Handlers-cleaners,</td>\n",
       "      <td>Husband,</td>\n",
       "      <td>Black,</td>\n",
       "      <td>Male,</td>\n",
       "      <td>0,</td>\n",
       "      <td>0,</td>\n",
       "      <td>40,</td>\n",
       "      <td>United-States,</td>\n",
       "      <td>&lt;=50K</td>\n",
       "    </tr>\n",
       "    <tr>\n",
       "      <td>4</td>\n",
       "      <td>28,</td>\n",
       "      <td>Private,</td>\n",
       "      <td>338409,</td>\n",
       "      <td>Bachelors,</td>\n",
       "      <td>13,</td>\n",
       "      <td>Married-civ-spouse,</td>\n",
       "      <td>Prof-specialty,</td>\n",
       "      <td>Wife,</td>\n",
       "      <td>Black,</td>\n",
       "      <td>Female,</td>\n",
       "      <td>0,</td>\n",
       "      <td>0,</td>\n",
       "      <td>40,</td>\n",
       "      <td>Cuba,</td>\n",
       "      <td>&lt;=50K</td>\n",
       "    </tr>\n",
       "  </tbody>\n",
       "</table>\n",
       "</div>"
      ],
      "text/plain": [
       "   age          workclass   fnlwgt   education education-num  \\\n",
       "0  39,         State-gov,   77516,  Bachelors,           13,   \n",
       "1  50,  Self-emp-not-inc,   83311,  Bachelors,           13,   \n",
       "2  38,           Private,  215646,    HS-grad,            9,   \n",
       "3  53,           Private,  234721,       11th,            7,   \n",
       "4  28,           Private,  338409,  Bachelors,           13,   \n",
       "\n",
       "        marital-status          occupation    relationship    race      sex  \\\n",
       "0       Never-married,       Adm-clerical,  Not-in-family,  White,    Male,   \n",
       "1  Married-civ-spouse,    Exec-managerial,        Husband,  White,    Male,   \n",
       "2            Divorced,  Handlers-cleaners,  Not-in-family,  White,    Male,   \n",
       "3  Married-civ-spouse,  Handlers-cleaners,        Husband,  Black,    Male,   \n",
       "4  Married-civ-spouse,     Prof-specialty,           Wife,  Black,  Female,   \n",
       "\n",
       "  capital-gain capital-loss hours-per-week  native-country result  \n",
       "0        2174,           0,            40,  United-States,  <=50K  \n",
       "1           0,           0,            13,  United-States,  <=50K  \n",
       "2           0,           0,            40,  United-States,  <=50K  \n",
       "3           0,           0,            40,  United-States,  <=50K  \n",
       "4           0,           0,            40,           Cuba,  <=50K  "
      ]
     },
     "execution_count": 25,
     "metadata": {},
     "output_type": "execute_result"
    }
   ],
   "source": [
    "train.head()"
   ]
  },
  {
   "cell_type": "code",
   "execution_count": 26,
   "metadata": {
    "scrolled": true
   },
   "outputs": [
    {
     "name": "stdout",
     "output_type": "stream",
     "text": [
      "<class 'pandas.core.frame.DataFrame'>\n",
      "RangeIndex: 32561 entries, 0 to 32560\n",
      "Data columns (total 15 columns):\n",
      "age               32561 non-null object\n",
      "workclass         32561 non-null object\n",
      "fnlwgt            32561 non-null object\n",
      "education         32561 non-null object\n",
      "education-num     32561 non-null object\n",
      "marital-status    32561 non-null object\n",
      "occupation        32561 non-null object\n",
      "relationship      32561 non-null object\n",
      "race              32561 non-null object\n",
      "sex               32561 non-null object\n",
      "capital-gain      32561 non-null object\n",
      "capital-loss      32561 non-null object\n",
      "hours-per-week    32561 non-null object\n",
      "native-country    32561 non-null object\n",
      "result            32561 non-null object\n",
      "dtypes: object(15)\n",
      "memory usage: 3.7+ MB\n"
     ]
    }
   ],
   "source": [
    "train.info()"
   ]
  },
  {
   "cell_type": "code",
   "execution_count": 27,
   "metadata": {},
   "outputs": [],
   "source": [
    "d= train.describe()"
   ]
  },
  {
   "cell_type": "code",
   "execution_count": 28,
   "metadata": {},
   "outputs": [
    {
     "data": {
      "text/plain": [
       "Text(0.5, 1.0, 'Bar plot of the count of numeric features')"
      ]
     },
     "execution_count": 28,
     "metadata": {},
     "output_type": "execute_result"
    },
    {
     "data": {
      "image/png": "[encoded data removed]",
      "text/plain": [
       "<Figure size 432x288 with 1 Axes>"
      ]
     },
     "metadata": {},
     "output_type": "display_data"
    }
   ],
   "source": [
    "dT=d.T\n",
    "dT.plot.bar(y='count')\n",
    "plt.title(\"Bar plot of the count of numeric features\",fontsize=17)"
   ]
  },
  {
   "cell_type": "code",
   "execution_count": 29,
   "metadata": {},
   "outputs": [
    {
     "data": {
      "text/plain": [
       "Text(0.5, 1.0, 'Fraction of relationship affect result by class')"
      ]
     },
     "execution_count": 29,
     "metadata": {},
     "output_type": "execute_result"
    },
    {
     "data": {
      "image/png": "[encoded data removed]",
      "text/plain": [
       "<Figure size 432x288 with 1 Axes>"
      ]
     },
     "metadata": {},
     "output_type": "display_data"
    }
   ],
   "source": [
    "f_class_result=train.groupby('relationship')['result'].count()\n",
    "f_class_result = pd.DataFrame(f_class_result)\n",
    "f_class_result\n",
    "f_class_result.plot.bar(y='result')\n",
    "plt.title(\"Fraction of relationship affect result by class\",fontsize=17)"
   ]
  },
  {
   "cell_type": "code",
   "execution_count": 30,
   "metadata": {},
   "outputs": [
    {
     "data": {
      "text/plain": [
       "<matplotlib.axes._subplots.AxesSubplot at 0x21ca9988448>"
      ]
     },
     "execution_count": 30,
     "metadata": {},
     "output_type": "execute_result"
    },
    {
     "data": {
      "image/png": "[encoded data removed]",
      "text/plain": [
       "<Figure size 432x288 with 1 Axes>"
      ]
     },
     "metadata": {},
     "output_type": "display_data"
    }
   ],
   "source": [
    "sns.set_style('whitegrid')\n",
    "sns.countplot(x='relationship' ,hue='result' ,data=train,palette='rainbow')"
   ]
  },
  {
   "cell_type": "code",
   "execution_count": 31,
   "metadata": {},
   "outputs": [
    {
     "data": {
      "text/plain": [
       "<matplotlib.axes._subplots.AxesSubplot at 0x21ca9e746c8>"
      ]
     },
     "execution_count": 31,
     "metadata": {},
     "output_type": "execute_result"
    },
    {
     "data": {
      "image/png": "[encoded data removed]",
      "text/plain": [
       "<Figure size 720x432 with 1 Axes>"
      ]
     },
     "metadata": {},
     "output_type": "display_data"
    }
   ],
   "source": [
    "plt.xlabel(\"Age of data\",fontsize=18)\n",
    "plt.ylabel(\"Count\",fontsize=18)\n",
    "plt.title(\"Age histogram of the reult\",fontsize=22)\n",
    "train['age'].hist(bins=30,color='darkred',alpha=0.7,figsize=(10,6))"
   ]
  },
  {
   "cell_type": "code",
   "execution_count": 32,
   "metadata": {},
   "outputs": [
    {
     "data": {
      "text/plain": [
       "<bound method DataFrame.info of        age          workclass   fnlwgt    education education-num  \\\n",
       "0      39,         State-gov,   77516,   Bachelors,           13,   \n",
       "1      50,  Self-emp-not-inc,   83311,   Bachelors,           13,   \n",
       "2      38,           Private,  215646,     HS-grad,            9,   \n",
       "3      53,           Private,  234721,        11th,            7,   \n",
       "4      28,           Private,  338409,   Bachelors,           13,   \n",
       "...    ...                ...      ...          ...           ...   \n",
       "32556  27,           Private,  257302,  Assoc-acdm,           12,   \n",
       "32557  40,           Private,  154374,     HS-grad,            9,   \n",
       "32558  58,           Private,  151910,     HS-grad,            9,   \n",
       "32559  22,           Private,  201490,     HS-grad,            9,   \n",
       "32560  52,      Self-emp-inc,  287927,     HS-grad,            9,   \n",
       "\n",
       "            marital-status          occupation    relationship    race  \\\n",
       "0           Never-married,       Adm-clerical,  Not-in-family,  White,   \n",
       "1      Married-civ-spouse,    Exec-managerial,        Husband,  White,   \n",
       "2                Divorced,  Handlers-cleaners,  Not-in-family,  White,   \n",
       "3      Married-civ-spouse,  Handlers-cleaners,        Husband,  Black,   \n",
       "4      Married-civ-spouse,     Prof-specialty,           Wife,  Black,   \n",
       "...                    ...                 ...             ...     ...   \n",
       "32556  Married-civ-spouse,       Tech-support,           Wife,  White,   \n",
       "32557  Married-civ-spouse,  Machine-op-inspct,        Husband,  White,   \n",
       "32558             Widowed,       Adm-clerical,      Unmarried,  White,   \n",
       "32559       Never-married,       Adm-clerical,      Own-child,  White,   \n",
       "32560  Married-civ-spouse,    Exec-managerial,           Wife,  White,   \n",
       "\n",
       "           sex capital-gain capital-loss hours-per-week  native-country result  \n",
       "0        Male,        2174,           0,            40,  United-States,  <=50K  \n",
       "1        Male,           0,           0,            13,  United-States,  <=50K  \n",
       "2        Male,           0,           0,            40,  United-States,  <=50K  \n",
       "3        Male,           0,           0,            40,  United-States,  <=50K  \n",
       "4      Female,           0,           0,            40,           Cuba,  <=50K  \n",
       "...        ...          ...          ...            ...             ...    ...  \n",
       "32556  Female,           0,           0,            38,  United-States,  <=50K  \n",
       "32557    Male,           0,           0,            40,  United-States,   >50K  \n",
       "32558  Female,           0,           0,            40,  United-States,  <=50K  \n",
       "32559    Male,           0,           0,            20,  United-States,  <=50K  \n",
       "32560  Female,       15024,           0,            40,  United-States,   >50K  \n",
       "\n",
       "[32561 rows x 15 columns]>"
      ]
     },
     "execution_count": 32,
     "metadata": {},
     "output_type": "execute_result"
    }
   ],
   "source": [
    "train.info"
   ]
  },
  {
   "cell_type": "code",
   "execution_count": 33,
   "metadata": {},
   "outputs": [],
   "source": [
    "train['age']= train['age'].str.extract('(\\d+)', expand=False).astype(int)"
   ]
  },
  {
   "cell_type": "code",
   "execution_count": 34,
   "metadata": {},
   "outputs": [],
   "source": [
    "train['fnlwgt']= train['fnlwgt'].str.extract('(\\d+)', expand=False).astype(int)\n",
    "train['education-num']= train['education-num'].str.extract('(\\d+)', expand=False).astype(int)\n",
    "train['capital-gain']= train['capital-gain'].str.extract('(\\d+)', expand=False).astype(int)\n",
    "train['capital-loss']= train['capital-loss'].str.extract('(\\d+)', expand=False).astype(int)\n",
    "train['hours-per-week']= train['hours-per-week'].str.extract('(\\d+)', expand=False).astype(int)"
   ]
  },
  {
   "cell_type": "code",
   "execution_count": 35,
   "metadata": {},
   "outputs": [
    {
     "data": {
      "text/html": [
       "<div>\n",
       "<style scoped>\n",
       "    .dataframe tbody tr th:only-of-type {\n",
       "        vertical-align: middle;\n",
       "    }\n",
       "\n",
       "    .dataframe tbody tr th {\n",
       "        vertical-align: top;\n",
       "    }\n",
       "\n",
       "    .dataframe thead th {\n",
       "        text-align: right;\n",
       "    }\n",
       "</style>\n",
       "<table border=\"1\" class=\"dataframe\">\n",
       "  <thead>\n",
       "    <tr style=\"text-align: right;\">\n",
       "      <th></th>\n",
       "      <th>age</th>\n",
       "      <th>workclass</th>\n",
       "      <th>fnlwgt</th>\n",
       "      <th>education</th>\n",
       "      <th>education-num</th>\n",
       "      <th>marital-status</th>\n",
       "      <th>occupation</th>\n",
       "      <th>relationship</th>\n",
       "      <th>capital-gain</th>\n",
       "      <th>capital-loss</th>\n",
       "      <th>hours-per-week</th>\n",
       "      <th>native-country</th>\n",
       "      <th>result</th>\n",
       "      <th>Male,</th>\n",
       "      <th>Asian-Pac-Islander,</th>\n",
       "      <th>Black,</th>\n",
       "      <th>Other,</th>\n",
       "      <th>White,</th>\n",
       "    </tr>\n",
       "  </thead>\n",
       "  <tbody>\n",
       "    <tr>\n",
       "      <td>0</td>\n",
       "      <td>39</td>\n",
       "      <td>State-gov,</td>\n",
       "      <td>77516</td>\n",
       "      <td>Bachelors,</td>\n",
       "      <td>13</td>\n",
       "      <td>Never-married,</td>\n",
       "      <td>Adm-clerical,</td>\n",
       "      <td>Not-in-family,</td>\n",
       "      <td>2174</td>\n",
       "      <td>0</td>\n",
       "      <td>40</td>\n",
       "      <td>United-States,</td>\n",
       "      <td>&lt;=50K</td>\n",
       "      <td>1</td>\n",
       "      <td>0</td>\n",
       "      <td>0</td>\n",
       "      <td>0</td>\n",
       "      <td>1</td>\n",
       "    </tr>\n",
       "    <tr>\n",
       "      <td>1</td>\n",
       "      <td>50</td>\n",
       "      <td>Self-emp-not-inc,</td>\n",
       "      <td>83311</td>\n",
       "      <td>Bachelors,</td>\n",
       "      <td>13</td>\n",
       "      <td>Married-civ-spouse,</td>\n",
       "      <td>Exec-managerial,</td>\n",
       "      <td>Husband,</td>\n",
       "      <td>0</td>\n",
       "      <td>0</td>\n",
       "      <td>13</td>\n",
       "      <td>United-States,</td>\n",
       "      <td>&lt;=50K</td>\n",
       "      <td>1</td>\n",
       "      <td>0</td>\n",
       "      <td>0</td>\n",
       "      <td>0</td>\n",
       "      <td>1</td>\n",
       "    </tr>\n",
       "    <tr>\n",
       "      <td>2</td>\n",
       "      <td>38</td>\n",
       "      <td>Private,</td>\n",
       "      <td>215646</td>\n",
       "      <td>HS-grad,</td>\n",
       "      <td>9</td>\n",
       "      <td>Divorced,</td>\n",
       "      <td>Handlers-cleaners,</td>\n",
       "      <td>Not-in-family,</td>\n",
       "      <td>0</td>\n",
       "      <td>0</td>\n",
       "      <td>40</td>\n",
       "      <td>United-States,</td>\n",
       "      <td>&lt;=50K</td>\n",
       "      <td>1</td>\n",
       "      <td>0</td>\n",
       "      <td>0</td>\n",
       "      <td>0</td>\n",
       "      <td>1</td>\n",
       "    </tr>\n",
       "    <tr>\n",
       "      <td>3</td>\n",
       "      <td>53</td>\n",
       "      <td>Private,</td>\n",
       "      <td>234721</td>\n",
       "      <td>11th,</td>\n",
       "      <td>7</td>\n",
       "      <td>Married-civ-spouse,</td>\n",
       "      <td>Handlers-cleaners,</td>\n",
       "      <td>Husband,</td>\n",
       "      <td>0</td>\n",
       "      <td>0</td>\n",
       "      <td>40</td>\n",
       "      <td>United-States,</td>\n",
       "      <td>&lt;=50K</td>\n",
       "      <td>1</td>\n",
       "      <td>0</td>\n",
       "      <td>1</td>\n",
       "      <td>0</td>\n",
       "      <td>0</td>\n",
       "    </tr>\n",
       "    <tr>\n",
       "      <td>4</td>\n",
       "      <td>28</td>\n",
       "      <td>Private,</td>\n",
       "      <td>338409</td>\n",
       "      <td>Bachelors,</td>\n",
       "      <td>13</td>\n",
       "      <td>Married-civ-spouse,</td>\n",
       "      <td>Prof-specialty,</td>\n",
       "      <td>Wife,</td>\n",
       "      <td>0</td>\n",
       "      <td>0</td>\n",
       "      <td>40</td>\n",
       "      <td>Cuba,</td>\n",
       "      <td>&lt;=50K</td>\n",
       "      <td>0</td>\n",
       "      <td>0</td>\n",
       "      <td>1</td>\n",
       "      <td>0</td>\n",
       "      <td>0</td>\n",
       "    </tr>\n",
       "  </tbody>\n",
       "</table>\n",
       "</div>"
      ],
      "text/plain": [
       "   age          workclass  fnlwgt   education  education-num  \\\n",
       "0   39         State-gov,   77516  Bachelors,             13   \n",
       "1   50  Self-emp-not-inc,   83311  Bachelors,             13   \n",
       "2   38           Private,  215646    HS-grad,              9   \n",
       "3   53           Private,  234721       11th,              7   \n",
       "4   28           Private,  338409  Bachelors,             13   \n",
       "\n",
       "        marital-status          occupation    relationship  capital-gain  \\\n",
       "0       Never-married,       Adm-clerical,  Not-in-family,          2174   \n",
       "1  Married-civ-spouse,    Exec-managerial,        Husband,             0   \n",
       "2            Divorced,  Handlers-cleaners,  Not-in-family,             0   \n",
       "3  Married-civ-spouse,  Handlers-cleaners,        Husband,             0   \n",
       "4  Married-civ-spouse,     Prof-specialty,           Wife,             0   \n",
       "\n",
       "   capital-loss  hours-per-week  native-country result  Male,  \\\n",
       "0             0              40  United-States,  <=50K      1   \n",
       "1             0              13  United-States,  <=50K      1   \n",
       "2             0              40  United-States,  <=50K      1   \n",
       "3             0              40  United-States,  <=50K      1   \n",
       "4             0              40           Cuba,  <=50K      0   \n",
       "\n",
       "   Asian-Pac-Islander,  Black,  Other,  White,  \n",
       "0                    0       0       0       1  \n",
       "1                    0       0       0       1  \n",
       "2                    0       0       0       1  \n",
       "3                    0       1       0       0  \n",
       "4                    0       1       0       0  "
      ]
     },
     "execution_count": 35,
     "metadata": {},
     "output_type": "execute_result"
    }
   ],
   "source": [
    "sex  = pd.get_dummies(train['sex'],drop_first=True)\n",
    "train.drop(['sex'],axis=1,inplace=True)\n",
    "train = pd.concat([train,sex],axis=1)\n",
    "race  = pd.get_dummies(train['race'],drop_first=True)\n",
    "train.drop(['race'],axis=1,inplace=True)\n",
    "train = pd.concat([train,race],axis=1)\n",
    "train.head()"
   ]
  },
  {
   "cell_type": "code",
   "execution_count": 36,
   "metadata": {},
   "outputs": [
    {
     "data": {
      "text/html": [
       "<div>\n",
       "<style scoped>\n",
       "    .dataframe tbody tr th:only-of-type {\n",
       "        vertical-align: middle;\n",
       "    }\n",
       "\n",
       "    .dataframe tbody tr th {\n",
       "        vertical-align: top;\n",
       "    }\n",
       "\n",
       "    .dataframe thead th {\n",
       "        text-align: right;\n",
       "    }\n",
       "</style>\n",
       "<table border=\"1\" class=\"dataframe\">\n",
       "  <thead>\n",
       "    <tr style=\"text-align: right;\">\n",
       "      <th></th>\n",
       "      <th>age</th>\n",
       "      <th>workclass</th>\n",
       "      <th>fnlwgt</th>\n",
       "      <th>education</th>\n",
       "      <th>education-num</th>\n",
       "      <th>marital-status</th>\n",
       "      <th>occupation</th>\n",
       "      <th>relationship</th>\n",
       "      <th>capital-gain</th>\n",
       "      <th>capital-loss</th>\n",
       "      <th>hours-per-week</th>\n",
       "      <th>native-country</th>\n",
       "      <th>Male,</th>\n",
       "      <th>Asian-Pac-Islander,</th>\n",
       "      <th>Black,</th>\n",
       "      <th>Other,</th>\n",
       "      <th>White,</th>\n",
       "      <th>&gt;50K</th>\n",
       "    </tr>\n",
       "  </thead>\n",
       "  <tbody>\n",
       "    <tr>\n",
       "      <td>0</td>\n",
       "      <td>39</td>\n",
       "      <td>State-gov,</td>\n",
       "      <td>77516</td>\n",
       "      <td>Bachelors,</td>\n",
       "      <td>13</td>\n",
       "      <td>Never-married,</td>\n",
       "      <td>Adm-clerical,</td>\n",
       "      <td>Not-in-family,</td>\n",
       "      <td>2174</td>\n",
       "      <td>0</td>\n",
       "      <td>40</td>\n",
       "      <td>United-States,</td>\n",
       "      <td>1</td>\n",
       "      <td>0</td>\n",
       "      <td>0</td>\n",
       "      <td>0</td>\n",
       "      <td>1</td>\n",
       "      <td>0</td>\n",
       "    </tr>\n",
       "    <tr>\n",
       "      <td>1</td>\n",
       "      <td>50</td>\n",
       "      <td>Self-emp-not-inc,</td>\n",
       "      <td>83311</td>\n",
       "      <td>Bachelors,</td>\n",
       "      <td>13</td>\n",
       "      <td>Married-civ-spouse,</td>\n",
       "      <td>Exec-managerial,</td>\n",
       "      <td>Husband,</td>\n",
       "      <td>0</td>\n",
       "      <td>0</td>\n",
       "      <td>13</td>\n",
       "      <td>United-States,</td>\n",
       "      <td>1</td>\n",
       "      <td>0</td>\n",
       "      <td>0</td>\n",
       "      <td>0</td>\n",
       "      <td>1</td>\n",
       "      <td>0</td>\n",
       "    </tr>\n",
       "    <tr>\n",
       "      <td>2</td>\n",
       "      <td>38</td>\n",
       "      <td>Private,</td>\n",
       "      <td>215646</td>\n",
       "      <td>HS-grad,</td>\n",
       "      <td>9</td>\n",
       "      <td>Divorced,</td>\n",
       "      <td>Handlers-cleaners,</td>\n",
       "      <td>Not-in-family,</td>\n",
       "      <td>0</td>\n",
       "      <td>0</td>\n",
       "      <td>40</td>\n",
       "      <td>United-States,</td>\n",
       "      <td>1</td>\n",
       "      <td>0</td>\n",
       "      <td>0</td>\n",
       "      <td>0</td>\n",
       "      <td>1</td>\n",
       "      <td>0</td>\n",
       "    </tr>\n",
       "    <tr>\n",
       "      <td>3</td>\n",
       "      <td>53</td>\n",
       "      <td>Private,</td>\n",
       "      <td>234721</td>\n",
       "      <td>11th,</td>\n",
       "      <td>7</td>\n",
       "      <td>Married-civ-spouse,</td>\n",
       "      <td>Handlers-cleaners,</td>\n",
       "      <td>Husband,</td>\n",
       "      <td>0</td>\n",
       "      <td>0</td>\n",
       "      <td>40</td>\n",
       "      <td>United-States,</td>\n",
       "      <td>1</td>\n",
       "      <td>0</td>\n",
       "      <td>1</td>\n",
       "      <td>0</td>\n",
       "      <td>0</td>\n",
       "      <td>0</td>\n",
       "    </tr>\n",
       "    <tr>\n",
       "      <td>4</td>\n",
       "      <td>28</td>\n",
       "      <td>Private,</td>\n",
       "      <td>338409</td>\n",
       "      <td>Bachelors,</td>\n",
       "      <td>13</td>\n",
       "      <td>Married-civ-spouse,</td>\n",
       "      <td>Prof-specialty,</td>\n",
       "      <td>Wife,</td>\n",
       "      <td>0</td>\n",
       "      <td>0</td>\n",
       "      <td>40</td>\n",
       "      <td>Cuba,</td>\n",
       "      <td>0</td>\n",
       "      <td>0</td>\n",
       "      <td>1</td>\n",
       "      <td>0</td>\n",
       "      <td>0</td>\n",
       "      <td>0</td>\n",
       "    </tr>\n",
       "  </tbody>\n",
       "</table>\n",
       "</div>"
      ],
      "text/plain": [
       "   age          workclass  fnlwgt   education  education-num  \\\n",
       "0   39         State-gov,   77516  Bachelors,             13   \n",
       "1   50  Self-emp-not-inc,   83311  Bachelors,             13   \n",
       "2   38           Private,  215646    HS-grad,              9   \n",
       "3   53           Private,  234721       11th,              7   \n",
       "4   28           Private,  338409  Bachelors,             13   \n",
       "\n",
       "        marital-status          occupation    relationship  capital-gain  \\\n",
       "0       Never-married,       Adm-clerical,  Not-in-family,          2174   \n",
       "1  Married-civ-spouse,    Exec-managerial,        Husband,             0   \n",
       "2            Divorced,  Handlers-cleaners,  Not-in-family,             0   \n",
       "3  Married-civ-spouse,  Handlers-cleaners,        Husband,             0   \n",
       "4  Married-civ-spouse,     Prof-specialty,           Wife,             0   \n",
       "\n",
       "   capital-loss  hours-per-week  native-country  Male,  Asian-Pac-Islander,  \\\n",
       "0             0              40  United-States,      1                    0   \n",
       "1             0              13  United-States,      1                    0   \n",
       "2             0              40  United-States,      1                    0   \n",
       "3             0              40  United-States,      1                    0   \n",
       "4             0              40           Cuba,      0                    0   \n",
       "\n",
       "   Black,  Other,  White,  >50K  \n",
       "0       0       0       1     0  \n",
       "1       0       0       1     0  \n",
       "2       0       0       1     0  \n",
       "3       1       0       0     0  \n",
       "4       1       0       0     0  "
      ]
     },
     "execution_count": 36,
     "metadata": {},
     "output_type": "execute_result"
    }
   ],
   "source": [
    "result  = pd.get_dummies(train['result'],drop_first=True)\n",
    "train.drop(['result'],axis=1,inplace=True)\n",
    "train = pd.concat([train,result],axis=1)\n",
    "train.head()"
   ]
  },
  {
   "cell_type": "code",
   "execution_count": 37,
   "metadata": {},
   "outputs": [],
   "source": [
    "#get all variables with only 0 1\n",
    "cat_vars=['workclass','education','marital-status','occupation','relationship','native-country']\n",
    "for var in cat_vars:\n",
    "    cat_list='var'+'_'+var\n",
    "    cat_list = pd.get_dummies(train[var], prefix=var)\n",
    "    train1=train.join(cat_list)\n",
    "    train= train1\n",
    "    train.drop([var],axis=1,inplace=True)\n",
    "cat_vars=['workclass','education','marital-status','occupation','relationship','native-country']\n",
    "data_vars=train.columns.values.tolist()\n",
    "to_keep=[i for i in data_vars if i not in cat_vars]"
   ]
  },
  {
   "cell_type": "code",
   "execution_count": 38,
   "metadata": {},
   "outputs": [
    {
     "data": {
      "text/plain": [
       "array(['age', 'fnlwgt', 'education-num', 'capital-gain', 'capital-loss',\n",
       "       'hours-per-week', 'Male,', 'Asian-Pac-Islander,', 'Black,',\n",
       "       'Other,', 'White,', '>50K', 'workclass_?,',\n",
       "       'workclass_Federal-gov,', 'workclass_Local-gov,',\n",
       "       'workclass_Never-worked,', 'workclass_Private,',\n",
       "       'workclass_Self-emp-inc,', 'workclass_Self-emp-not-inc,',\n",
       "       'workclass_State-gov,', 'workclass_Without-pay,',\n",
       "       'education_10th,', 'education_11th,', 'education_12th,',\n",
       "       'education_1st-4th,', 'education_5th-6th,', 'education_7th-8th,',\n",
       "       'education_9th,', 'education_Assoc-acdm,', 'education_Assoc-voc,',\n",
       "       'education_Bachelors,', 'education_Doctorate,',\n",
       "       'education_HS-grad,', 'education_Masters,', 'education_Preschool,',\n",
       "       'education_Prof-school,', 'education_Some-college,',\n",
       "       'marital-status_Divorced,', 'marital-status_Married-AF-spouse,',\n",
       "       'marital-status_Married-civ-spouse,',\n",
       "       'marital-status_Married-spouse-absent,',\n",
       "       'marital-status_Never-married,', 'marital-status_Separated,',\n",
       "       'marital-status_Widowed,', 'occupation_?,',\n",
       "       'occupation_Adm-clerical,', 'occupation_Armed-Forces,',\n",
       "       'occupation_Craft-repair,', 'occupation_Exec-managerial,',\n",
       "       'occupation_Farming-fishing,', 'occupation_Handlers-cleaners,',\n",
       "       'occupation_Machine-op-inspct,', 'occupation_Other-service,',\n",
       "       'occupation_Priv-house-serv,', 'occupation_Prof-specialty,',\n",
       "       'occupation_Protective-serv,', 'occupation_Sales,',\n",
       "       'occupation_Tech-support,', 'occupation_Transport-moving,',\n",
       "       'relationship_Husband,', 'relationship_Not-in-family,',\n",
       "       'relationship_Other-relative,', 'relationship_Own-child,',\n",
       "       'relationship_Unmarried,', 'relationship_Wife,',\n",
       "       'native-country_?,', 'native-country_Cambodia,',\n",
       "       'native-country_Canada,', 'native-country_China,',\n",
       "       'native-country_Columbia,', 'native-country_Cuba,',\n",
       "       'native-country_Dominican-Republic,', 'native-country_Ecuador,',\n",
       "       'native-country_El-Salvador,', 'native-country_England,',\n",
       "       'native-country_France,', 'native-country_Germany,',\n",
       "       'native-country_Greece,', 'native-country_Guatemala,',\n",
       "       'native-country_Haiti,', 'native-country_Holand-Netherlands,',\n",
       "       'native-country_Honduras,', 'native-country_Hong,',\n",
       "       'native-country_Hungary,', 'native-country_India,',\n",
       "       'native-country_Iran,', 'native-country_Ireland,',\n",
       "       'native-country_Italy,', 'native-country_Jamaica,',\n",
       "       'native-country_Japan,', 'native-country_Laos,',\n",
       "       'native-country_Mexico,', 'native-country_Nicaragua,',\n",
       "       'native-country_Outlying-US(Guam-USVI-etc),',\n",
       "       'native-country_Peru,', 'native-country_Philippines,',\n",
       "       'native-country_Poland,', 'native-country_Portugal,',\n",
       "       'native-country_Puerto-Rico,', 'native-country_Scotland,',\n",
       "       'native-country_South,', 'native-country_Taiwan,',\n",
       "       'native-country_Thailand,', 'native-country_Trinadad&Tobago,',\n",
       "       'native-country_United-States,', 'native-country_Vietnam,',\n",
       "       'native-country_Yugoslavia,'], dtype=object)"
      ]
     },
     "execution_count": 38,
     "metadata": {},
     "output_type": "execute_result"
    }
   ],
   "source": [
    "train_final=train[to_keep]\n",
    "train_final.columns.values"
   ]
  },
  {
   "cell_type": "code",
   "execution_count": 40,
   "metadata": {
    "scrolled": true
   },
   "outputs": [],
   "source": [
    "from sklearn.model_selection import train_test_split\n",
    "X_train, X_test, y_train, y_test = train_test_split(train.drop('>50K',axis=1), \n",
    "                                                    train['>50K'], test_size=0.30, \n",
    "                                                    random_state=111)"
   ]
  },
  {
   "cell_type": "code",
   "execution_count": 41,
   "metadata": {},
   "outputs": [
    {
     "data": {
      "image/png": "[encoded data removed]",
      "text/plain": [
       "<Figure size 432x288 with 1 Axes>"
      ]
     },
     "metadata": {},
     "output_type": "display_data"
    }
   ],
   "source": [
    "from sklearn.linear_model import LogisticRegression\n",
    "from sklearn.metrics import classification_report\n",
    "nsimu=201\n",
    "penalty=[0]*nsimu\n",
    "logmodel=[0]*nsimu\n",
    "predictions =[0]*nsimu\n",
    "class_report = [0]*nsimu\n",
    "f1=[0]*nsimu\n",
    "for i in range(1,nsimu):\n",
    "        logmodel[i] =(LogisticRegression(C=i/1000,tol=1e-4, max_iter=100,n_jobs=4))\n",
    "        logmodel[i].fit(X_train,y_train)\n",
    "        predictions[i] = logmodel[i].predict(X_test)\n",
    "        class_report[i] = classification_report(y_test,predictions[i])\n",
    "        l=class_report[i].split()\n",
    "        f1[i] = l[len(l)-2]\n",
    "        penalty[i]=1000/i\n",
    "\n",
    "plt.scatter(penalty[1:len(penalty)-2],f1[1:len(f1)-2])\n",
    "plt.title(\"F1-score vs. regularization parameter\",fontsize=20)\n",
    "plt.xlabel(\"Penalty parameter\",fontsize=17)\n",
    "plt.ylabel(\"F1-score on test data\",fontsize=17)\n",
    "plt.show()"
   ]
  },
  {
   "cell_type": "code",
   "execution_count": 43,
   "metadata": {},
   "outputs": [
    {
     "data": {
      "image/png": "[encoded data removed]",
      "text/plain": [
       "<Figure size 432x288 with 1 Axes>"
      ]
     },
     "metadata": {},
     "output_type": "display_data"
    }
   ],
   "source": [
    "nsimu=101\n",
    "class_report = [0]*nsimu\n",
    "f1=[0]*nsimu\n",
    "random_init =[0]*nsimu\n",
    "for i in range(1,nsimu):\n",
    "        X_train, X_test, y_train, y_test = train_test_split(train.drop('>50K',axis=1), \n",
    "                                                    train['>50K'], test_size=0.3, \n",
    "                                                    random_state=i+100)\n",
    "        logmodel =(LogisticRegression(C=1,tol=1e-5, max_iter=1000,n_jobs=4))\n",
    "        logmodel.fit(X_train,y_train)\n",
    "        predictions = logmodel.predict(X_test)\n",
    "        class_report[i] = classification_report(y_test,predictions)\n",
    "        l=class_report[i].split()\n",
    "        f1[i] = l[len(l)-2]\n",
    "        random_init[i]=i+100\n",
    "\n",
    "plt.plot(random_init[1:len(random_init)-2],f1[1:len(f1)-2])\n",
    "plt.title(\"F1-score vs. random initialization seed\",fontsize=20)\n",
    "plt.xlabel(\"Random initialization seed\",fontsize=17)\n",
    "plt.ylabel(\"F1-score on test data\",fontsize=17)\n",
    "plt.show()"
   ]
  },
  {
   "cell_type": "code",
   "execution_count": null,
   "metadata": {},
   "outputs": [],
   "source": []
  }
 ],
 "metadata": {
  "kernelspec": {
   "display_name": "Python 3",
   "language": "python",
   "name": "python3"
  },
  "language_info": {
   "codemirror_mode": {
    "name": "ipython",
    "version": 3
   },
   "file_extension": ".py",
   "mimetype": "text/x-python",
   "name": "python",
   "nbconvert_exporter": "python",
   "pygments_lexer": "ipython3",
   "version": "3.7.4"
  }
 },
 "nbformat": 4,
 "nbformat_minor": 2
}
